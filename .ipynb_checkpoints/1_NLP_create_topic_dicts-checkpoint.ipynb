{
 "cells": [
  {
   "cell_type": "code",
   "execution_count": 1,
   "metadata": {},
   "outputs": [],
   "source": [
    "import os\n",
    "import pandas as pd\n",
    "import numpy as np\n",
    "import matplotlib.pyplot as plt\n",
    "import unidecode\n",
    "import numpy as np"
   ]
  },
  {
   "cell_type": "code",
   "execution_count": 2,
   "metadata": {},
   "outputs": [
    {
     "data": {
      "text/html": [
       "<div>\n",
       "<style scoped>\n",
       "    .dataframe tbody tr th:only-of-type {\n",
       "        vertical-align: middle;\n",
       "    }\n",
       "\n",
       "    .dataframe tbody tr th {\n",
       "        vertical-align: top;\n",
       "    }\n",
       "\n",
       "    .dataframe thead th {\n",
       "        text-align: right;\n",
       "    }\n",
       "</style>\n",
       "<table border=\"1\" class=\"dataframe\">\n",
       "  <thead>\n",
       "    <tr style=\"text-align: right;\">\n",
       "      <th></th>\n",
       "      <th>Pregunta</th>\n",
       "      <th>respuesta</th>\n",
       "      <th>Tema</th>\n",
       "      <th>Pers/empresa</th>\n",
       "      <th>Polarity</th>\n",
       "    </tr>\n",
       "  </thead>\n",
       "  <tbody>\n",
       "    <tr>\n",
       "      <th>0</th>\n",
       "      <td>Hola una pregunta en que perjudica el acta de ...</td>\n",
       "      <td>NaN</td>\n",
       "      <td>Renuncia/Despido/Desahucio</td>\n",
       "      <td>persona</td>\n",
       "      <td>0</td>\n",
       "    </tr>\n",
       "    <tr>\n",
       "      <th>1</th>\n",
       "      <td>PARA CALCULAR EL DESAHUCIO SE DEBE TOMAR EN CU...</td>\n",
       "      <td>NaN</td>\n",
       "      <td>Renuncia/Despido/Desahucio</td>\n",
       "      <td>persona</td>\n",
       "      <td>0</td>\n",
       "    </tr>\n",
       "    <tr>\n",
       "      <th>2</th>\n",
       "      <td>supuestamente Correa emitió el decreto 225 dod...</td>\n",
       "      <td>NaN</td>\n",
       "      <td>Jubilacion Patronal</td>\n",
       "      <td>persona</td>\n",
       "      <td>0</td>\n",
       "    </tr>\n",
       "  </tbody>\n",
       "</table>\n",
       "</div>"
      ],
      "text/plain": [
       "                                            Pregunta respuesta  \\\n",
       "0  Hola una pregunta en que perjudica el acta de ...       NaN   \n",
       "1  PARA CALCULAR EL DESAHUCIO SE DEBE TOMAR EN CU...       NaN   \n",
       "2  supuestamente Correa emitió el decreto 225 dod...       NaN   \n",
       "\n",
       "                         Tema Pers/empresa Polarity  \n",
       "0  Renuncia/Despido/Desahucio      persona        0  \n",
       "1  Renuncia/Despido/Desahucio      persona        0  \n",
       "2         Jubilacion Patronal      persona        0  "
      ]
     },
     "execution_count": 2,
     "metadata": {},
     "output_type": "execute_result"
    }
   ],
   "source": [
    "data = pd.read_csv(\"Data\\\\preguntas.csv\", sep=',', encoding = \"ISO-8859-1\")\n",
    "data.head(3)"
   ]
  },
  {
   "cell_type": "code",
   "execution_count": 3,
   "metadata": {},
   "outputs": [
    {
     "data": {
      "text/plain": [
       "Jubilacion Patronal                                    78\n",
       "Renuncia/Despido/Desahucio                             22\n",
       "IESS                                                   16\n",
       "Greeting                                               10\n",
       "Contacto                                               10\n",
       "Otros servicios (Charlas/Capacitaciones/Financiera)     8\n",
       "Consultoria                                             7\n",
       "job seeker                                              6\n",
       "Ambiguous                                               6\n",
       "Queja                                                   5\n",
       "Hi Five                                                 5\n",
       "Otras Consultas                                         2\n",
       "Name: Tema, dtype: int64"
      ]
     },
     "execution_count": 3,
     "metadata": {},
     "output_type": "execute_result"
    }
   ],
   "source": [
    "data.Tema.value_counts()"
   ]
  },
  {
   "cell_type": "code",
   "execution_count": null,
   "metadata": {},
   "outputs": [],
   "source": []
  },
  {
   "cell_type": "code",
   "execution_count": 4,
   "metadata": {},
   "outputs": [],
   "source": [
    "p2 = []\n",
    "for p in data.Pregunta:\n",
    "    p2.append(' '.join(p.split()))\n",
    "data['Pregunta2'] = p2"
   ]
  },
  {
   "cell_type": "code",
   "execution_count": null,
   "metadata": {},
   "outputs": [],
   "source": []
  },
  {
   "cell_type": "code",
   "execution_count": 5,
   "metadata": {},
   "outputs": [],
   "source": [
    "from nltk.corpus import stopwords\n",
    "from nltk.tokenize import RegexpTokenizer\n",
    "from collections import defaultdict\n",
    "import unidecode\n",
    "from nltk.stem import SnowballStemmer"
   ]
  },
  {
   "cell_type": "code",
   "execution_count": 6,
   "metadata": {},
   "outputs": [],
   "source": [
    "stop = stopwords.words('spanish')\n",
    "tokenizer = RegexpTokenizer(r'\\w+')\n",
    "stemmer = SnowballStemmer(\"spanish\")"
   ]
  },
  {
   "cell_type": "code",
   "execution_count": 7,
   "metadata": {},
   "outputs": [],
   "source": [
    "stop = stop + ['hola', 'cuanto', 'cuesta', 'ustedes', 'buenas', 'tardes', 'favor', 'dias', 'necesito', 'buenos', 'si', 'saber', 'gracias', 'ayudar', \n",
    "     '2017', '2018', '2016', '2019', 'ayuden', 'consulta', 'podria', 'pregunta', 'realizar', 'puede', 'pueden', 'mas', 'debe', 'tomar',\n",
    "         'supuestamente', 'buen', 'par', 'com', 'sab', 'hol', 'pregunt', 'tard', 'ayud']  #For topics!!! (for other actions it may be different)"
   ]
  },
  {
   "cell_type": "code",
   "execution_count": null,
   "metadata": {},
   "outputs": [],
   "source": []
  },
  {
   "cell_type": "code",
   "execution_count": null,
   "metadata": {},
   "outputs": [],
   "source": []
  },
  {
   "cell_type": "code",
   "execution_count": 8,
   "metadata": {},
   "outputs": [],
   "source": [
    "topicjp = defaultdict(int)\n",
    "lista = data.Pregunta2[data.Tema == 'Jubilacion Patronal']\n",
    "for frase in lista:\n",
    "    tokens = tokenizer.tokenize(unidecode.unidecode(frase.lower()))\n",
    "    for w in tokens:\n",
    "        w = stemmer.stem(w)\n",
    "        if w not in stop:\n",
    "            topicjp[w]+=1 "
   ]
  },
  {
   "cell_type": "code",
   "execution_count": null,
   "metadata": {},
   "outputs": [],
   "source": [
    "for w in sorted(topicjp, key=topicjp.get, reverse=True):\n",
    "    print(w, topicjp[w])"
   ]
  },
  {
   "cell_type": "code",
   "execution_count": 9,
   "metadata": {},
   "outputs": [],
   "source": [
    "topicjp = ['actuarial', 'jubilacion', 'estudi', 'patronal', 'empres', 'calcul', 'trabaj', 'jubil', \n",
    "     'provision', 'emple', 'desahuci', 'aport', 'proporcional', 'derech', 'descuent', 'pension', 'niif', 'nec']"
   ]
  },
  {
   "cell_type": "code",
   "execution_count": 10,
   "metadata": {},
   "outputs": [],
   "source": [
    "topicRen = defaultdict(int)\n",
    "lista = data.Pregunta2[data.Tema == 'Renuncia/Despido/Desahucio']\n",
    "for frase in lista:\n",
    "    tokens = tokenizer.tokenize(unidecode.unidecode(frase.lower()))\n",
    "    for w in tokens:\n",
    "        w = stemmer.stem(w)\n",
    "        if w not in stop:\n",
    "            topicRen[w]+=1 "
   ]
  },
  {
   "cell_type": "code",
   "execution_count": null,
   "metadata": {},
   "outputs": [],
   "source": [
    "for w in sorted(topicRen, key=topicRen.get, reverse=True):\n",
    "    print(w, topicRen[w])"
   ]
  },
  {
   "cell_type": "code",
   "execution_count": 11,
   "metadata": {},
   "outputs": [],
   "source": [
    "topicRen = ['desp', 'desahuci', 'liquidacion', 'calcul', 'valor', 'renunci', 'intempest', 'acta', \n",
    "     'finiquit', 'jubilacion', 'emple', 'empres', 'actuarial', 'bonificacion']"
   ]
  },
  {
   "cell_type": "code",
   "execution_count": 12,
   "metadata": {},
   "outputs": [],
   "source": [
    "topicIESS = defaultdict(int)\n",
    "lista = data.Pregunta2[data.Tema == 'IESS']\n",
    "for frase in lista:\n",
    "    tokens = tokenizer.tokenize(unidecode.unidecode(frase.lower()))\n",
    "    for w in tokens:\n",
    "        w = stemmer.stem(w)\n",
    "        if w not in stop:\n",
    "            topicIESS[w]+=1 "
   ]
  },
  {
   "cell_type": "code",
   "execution_count": null,
   "metadata": {},
   "outputs": [],
   "source": [
    "for w in sorted(topicIESS, key=topicIESS.get, reverse=True):\n",
    "    print(w, topicIESS[w])"
   ]
  },
  {
   "cell_type": "code",
   "execution_count": 13,
   "metadata": {},
   "outputs": [],
   "source": [
    "topicIESS = ['aport', 'iess', 'jubil', 'trabaj', 'jubilacion', 'calcul', \n",
    "     'raiz', 'sesentav', 'imposicion', 'invalidez', 'aportacion', 'montepi']"
   ]
  },
  {
   "cell_type": "code",
   "execution_count": 14,
   "metadata": {},
   "outputs": [],
   "source": [
    "topiContacto = defaultdict(int)\n",
    "lista = data.Pregunta2[data.Tema == 'Contacto']\n",
    "for frase in lista:\n",
    "    tokens = tokenizer.tokenize(unidecode.unidecode(frase.lower()))\n",
    "    for w in tokens:\n",
    "        w = stemmer.stem(w)\n",
    "        if w not in stop:\n",
    "            topiContacto[w]+=1 "
   ]
  },
  {
   "cell_type": "code",
   "execution_count": null,
   "metadata": {},
   "outputs": [],
   "source": [
    "for w in sorted(topiContacto, key=topiContacto.get, reverse=True):\n",
    "    print(w, topiContacto[w])"
   ]
  },
  {
   "cell_type": "code",
   "execution_count": 15,
   "metadata": {},
   "outputs": [],
   "source": [
    "topiContacto = ['corre', 'guayaquil', 'envi', 'electron', 'retencion', 'direccion', 'contact', \n",
    "     'telefonicamet', 'ciud', 'actuari', 'gye', 'quit', 'ubic', 'estan', 'contest', 'empres', 'transferent', 'factur']"
   ]
  },
  {
   "cell_type": "code",
   "execution_count": 16,
   "metadata": {},
   "outputs": [],
   "source": [
    "topicOS = defaultdict(int)\n",
    "lista = data.Pregunta2[data.Tema == 'Otros servicios (Charlas/Capacitaciones/Financiera)']\n",
    "for frase in lista:\n",
    "    tokens = tokenizer.tokenize(unidecode.unidecode(frase.lower()))\n",
    "    for w in tokens:\n",
    "        w = stemmer.stem(w)\n",
    "        if w not in stop:\n",
    "            topicOS[w]+=1 "
   ]
  },
  {
   "cell_type": "code",
   "execution_count": null,
   "metadata": {},
   "outputs": [],
   "source": [
    "for w in sorted(topicOS, key=topicOS.get, reverse=True):\n",
    "    print(w, topicOS[w])"
   ]
  },
  {
   "cell_type": "code",
   "execution_count": 17,
   "metadata": {},
   "outputs": [],
   "source": [
    "topicOS = ['capacit', 'laboral', 'financ', 'human', 'charl', 'cup']"
   ]
  },
  {
   "cell_type": "code",
   "execution_count": 18,
   "metadata": {},
   "outputs": [],
   "source": [
    "topiCons = defaultdict(int)\n",
    "lista = data.Pregunta2[data.Tema == 'Consultoria']\n",
    "for frase in lista:\n",
    "    tokens = tokenizer.tokenize(unidecode.unidecode(frase.lower()))\n",
    "    for w in tokens:\n",
    "        w = stemmer.stem(w)\n",
    "        if w not in stop:\n",
    "            topiCons[w]+=1 "
   ]
  },
  {
   "cell_type": "code",
   "execution_count": null,
   "metadata": {},
   "outputs": [],
   "source": [
    "for w in sorted(topiCons, key=topiCons.get, reverse=True):\n",
    "    print(w, topiCons[w])"
   ]
  },
  {
   "cell_type": "code",
   "execution_count": 19,
   "metadata": {},
   "outputs": [],
   "source": [
    "topiCons = ['not', 'tecnic', 'actuari', 'machin', 'learning', 'evalu', '360', 'consultori', 'rrc']"
   ]
  },
  {
   "cell_type": "code",
   "execution_count": 20,
   "metadata": {},
   "outputs": [],
   "source": [
    "topicJS = defaultdict(int)\n",
    "lista = data.Pregunta2[data.Tema == 'job seeker']\n",
    "for frase in lista:\n",
    "    tokens = tokenizer.tokenize(unidecode.unidecode(frase.lower()))\n",
    "    for w in tokens:\n",
    "        w = stemmer.stem(w)\n",
    "        if w not in stop:\n",
    "            topicJS[w]+=1 "
   ]
  },
  {
   "cell_type": "code",
   "execution_count": null,
   "metadata": {},
   "outputs": [],
   "source": [
    "for w in sorted(topicJS, key=topicJS.get, reverse=True):\n",
    "    print(w, topicJS[w])"
   ]
  },
  {
   "cell_type": "code",
   "execution_count": 21,
   "metadata": {},
   "outputs": [],
   "source": [
    "topicJS = ['hoj', 'vid', 'cv', 'entrev', 'trabaj', 'personal', 'oportun', 'laboral']"
   ]
  },
  {
   "cell_type": "code",
   "execution_count": 22,
   "metadata": {},
   "outputs": [],
   "source": [
    "topics = {}\n",
    "topics['JP'] = topicjp\n",
    "topics['Ren'] = topicRen\n",
    "topics['IESS'] = topicIESS\n",
    "topics['Cont'] = topiContacto\n",
    "topics['OS'] = topicOS\n",
    "topics['Cons'] = topiCons\n",
    "topics['JS'] = topicJS"
   ]
  },
  {
   "cell_type": "code",
   "execution_count": null,
   "metadata": {},
   "outputs": [],
   "source": []
  },
  {
   "cell_type": "code",
   "execution_count": 23,
   "metadata": {},
   "outputs": [],
   "source": [
    "topicLik = defaultdict(list)\n",
    "for frase,tema in zip(data.Pregunta2, data.Tema):    \n",
    "    for w in tokenizer.tokenize(unidecode.unidecode(frase.lower())):\n",
    "        w = stemmer.stem(w)\n",
    "        if w not in stop:\n",
    "            topicLik[w].append(tema)  "
   ]
  },
  {
   "cell_type": "code",
   "execution_count": 24,
   "metadata": {},
   "outputs": [],
   "source": [
    "liktopics = {}\n",
    "tops = ['Jubilacion Patronal', 'Renuncia/Despido/Desahucio', 'IESS', 'Contacto', \n",
    "            'Otros servicios (Charlas/Capacitaciones/Financiera)', 'Consultoria', 'job seeker']\n",
    "for k,t in zip(topics.keys(), tops):\n",
    "    l = []\n",
    "    for w in topics[k]:        \n",
    "        lik = topicLik[w].count(t)/len(topicLik[w])\n",
    "        l.append(lik)\n",
    "    liktopics[k] = l\n"
   ]
  },
  {
   "cell_type": "code",
   "execution_count": null,
   "metadata": {},
   "outputs": [],
   "source": []
  },
  {
   "cell_type": "code",
   "execution_count": null,
   "metadata": {},
   "outputs": [],
   "source": []
  },
  {
   "cell_type": "code",
   "execution_count": null,
   "metadata": {},
   "outputs": [],
   "source": []
  },
  {
   "cell_type": "code",
   "execution_count": 25,
   "metadata": {},
   "outputs": [],
   "source": [
    "all_topics = topicjp +  topicRen + topicIESS + topiContacto + topicOS + topiCons +  topicJS\n",
    "#all_topics = list(set(all_topics))"
   ]
  },
  {
   "cell_type": "code",
   "execution_count": 26,
   "metadata": {},
   "outputs": [],
   "source": [
    "all_topics = topicjp\n",
    "for t in topicRen:\n",
    "    if t not in all_topics:\n",
    "        all_topics.append(t)\n",
    "    for t in topicIESS:\n",
    "        if t not in all_topics:\n",
    "            all_topics.append(t)\n",
    "        for t in topiContacto:\n",
    "            if t not in all_topics:\n",
    "                all_topics.append(t)\n",
    "            for t in topicOS:\n",
    "                if t not in all_topics:\n",
    "                    all_topics.append(t)\n",
    "                for t in topiCons:\n",
    "                    if t not in all_topics:\n",
    "                        all_topics.append(t)\n",
    "                    for t in topicJS:\n",
    "                        if t not in all_topics:\n",
    "                            all_topics.append(t)"
   ]
  },
  {
   "cell_type": "code",
   "execution_count": null,
   "metadata": {},
   "outputs": [],
   "source": []
  },
  {
   "cell_type": "code",
   "execution_count": null,
   "metadata": {},
   "outputs": [],
   "source": []
  },
  {
   "cell_type": "code",
   "execution_count": 27,
   "metadata": {},
   "outputs": [],
   "source": [
    "jbtopdict = {}\n",
    "t = 'Jubilacion Patronal'\n",
    "for w in all_topics:        \n",
    "    lik = topicLik[w].count(t)/len(topicLik[w])\n",
    "    jbtopdict[w] = lik"
   ]
  },
  {
   "cell_type": "code",
   "execution_count": 28,
   "metadata": {},
   "outputs": [
    {
     "data": {
      "image/png": "[encoded data removed]",
      "text/plain": [
       "<Figure size 432x288 with 1 Axes>"
      ]
     },
     "metadata": {
      "needs_background": "light"
     },
     "output_type": "display_data"
    }
   ],
   "source": [
    "fig, ax = plt.subplots()\n",
    "plt.bar(jbtopdict.keys(), jbtopdict.values())\n",
    "plt.show()"
   ]
  },
  {
   "cell_type": "code",
   "execution_count": 29,
   "metadata": {},
   "outputs": [],
   "source": [
    "rentopdict = {}\n",
    "t = 'Renuncia/Despido/Desahucio'\n",
    "for w in all_topics:        \n",
    "    lik = topicLik[w].count(t)/len(topicLik[w])\n",
    "    rentopdict[w] = lik"
   ]
  },
  {
   "cell_type": "code",
   "execution_count": 30,
   "metadata": {},
   "outputs": [
    {
     "data": {
      "image/png": "[encoded data removed]",
      "text/plain": [
       "<Figure size 432x288 with 1 Axes>"
      ]
     },
     "metadata": {
      "needs_background": "light"
     },
     "output_type": "display_data"
    }
   ],
   "source": [
    "fig, ax = plt.subplots()\n",
    "plt.bar(rentopdict.keys(), rentopdict.values())\n",
    "plt.show()"
   ]
  },
  {
   "cell_type": "code",
   "execution_count": 31,
   "metadata": {},
   "outputs": [],
   "source": [
    "IESStopdict = {}\n",
    "t = 'IESS'\n",
    "for w in all_topics:        \n",
    "    lik = topicLik[w].count(t)/len(topicLik[w])\n",
    "    IESStopdict[w] = lik"
   ]
  },
  {
   "cell_type": "code",
   "execution_count": 32,
   "metadata": {},
   "outputs": [
    {
     "data": {
      "image/png": "[encoded data removed]",
      "text/plain": [
       "<Figure size 432x288 with 1 Axes>"
      ]
     },
     "metadata": {
      "needs_background": "light"
     },
     "output_type": "display_data"
    }
   ],
   "source": [
    "fig, ax = plt.subplots()\n",
    "plt.bar(IESStopdict.keys(), IESStopdict.values())\n",
    "plt.show()"
   ]
  },
  {
   "cell_type": "code",
   "execution_count": 33,
   "metadata": {},
   "outputs": [],
   "source": [
    "CONTtopdict = {}\n",
    "t = 'Contacto'\n",
    "for w in all_topics:        \n",
    "    lik = topicLik[w].count(t)/len(topicLik[w])\n",
    "    CONTtopdict[w] = lik"
   ]
  },
  {
   "cell_type": "code",
   "execution_count": 34,
   "metadata": {},
   "outputs": [
    {
     "data": {
      "image/png": "[encoded data removed]",
      "text/plain": [
       "<Figure size 432x288 with 1 Axes>"
      ]
     },
     "metadata": {
      "needs_background": "light"
     },
     "output_type": "display_data"
    }
   ],
   "source": [
    "fig, ax = plt.subplots()\n",
    "plt.bar(CONTtopdict.keys(), CONTtopdict.values())\n",
    "plt.show()"
   ]
  },
  {
   "cell_type": "code",
   "execution_count": 35,
   "metadata": {},
   "outputs": [],
   "source": [
    "OStopdict = {}\n",
    "t = 'Otros servicios (Charlas/Capacitaciones/Financiera)'\n",
    "for w in all_topics:        \n",
    "    lik = topicLik[w].count(t)/len(topicLik[w])\n",
    "    OStopdict[w] = lik"
   ]
  },
  {
   "cell_type": "code",
   "execution_count": 36,
   "metadata": {},
   "outputs": [
    {
     "data": {
      "image/png": "[encoded data removed]",
      "text/plain": [
       "<Figure size 432x288 with 1 Axes>"
      ]
     },
     "metadata": {
      "needs_background": "light"
     },
     "output_type": "display_data"
    }
   ],
   "source": [
    "fig, ax = plt.subplots()\n",
    "plt.bar(OStopdict.keys(), OStopdict.values())\n",
    "plt.show()"
   ]
  },
  {
   "cell_type": "code",
   "execution_count": 37,
   "metadata": {},
   "outputs": [],
   "source": [
    "CONStopdict = {}\n",
    "t = 'Consultoria'\n",
    "for w in all_topics:        \n",
    "    lik = topicLik[w].count(t)/len(topicLik[w])\n",
    "    CONStopdict[w] = lik"
   ]
  },
  {
   "cell_type": "code",
   "execution_count": 38,
   "metadata": {},
   "outputs": [
    {
     "data": {
      "image/png": "[encoded data removed]",
      "text/plain": [
       "<Figure size 432x288 with 1 Axes>"
      ]
     },
     "metadata": {
      "needs_background": "light"
     },
     "output_type": "display_data"
    }
   ],
   "source": [
    "fig, ax = plt.subplots()\n",
    "plt.bar(CONStopdict.keys(), CONStopdict.values())\n",
    "plt.show()"
   ]
  },
  {
   "cell_type": "code",
   "execution_count": 39,
   "metadata": {},
   "outputs": [],
   "source": [
    "JStopdict = {}\n",
    "t = 'job seeker'\n",
    "for w in all_topics:        \n",
    "    lik = topicLik[w].count(t)/len(topicLik[w])\n",
    "    JStopdict[w] = lik"
   ]
  },
  {
   "cell_type": "code",
   "execution_count": 40,
   "metadata": {},
   "outputs": [
    {
     "data": {
      "image/png": "[encoded data removed]",
      "text/plain": [
       "<Figure size 432x288 with 1 Axes>"
      ]
     },
     "metadata": {
      "needs_background": "light"
     },
     "output_type": "display_data"
    }
   ],
   "source": [
    "fig, ax = plt.subplots()\n",
    "plt.bar(JStopdict.keys(), JStopdict.values())\n",
    "plt.show()"
   ]
  },
  {
   "cell_type": "code",
   "execution_count": 41,
   "metadata": {},
   "outputs": [],
   "source": [
    "np.save('Data\\\\jbtopdict.npy', jbtopdict) ; np.save('Data\\\\rentopdict.npy', rentopdict) ; \n",
    "np.save('Data\\\\IESStopdict.npy', IESStopdict) ; np.save('Data\\\\CONTtopdict.npy', CONTtopdict) ; \n",
    "np.save('Data\\\\OStopdict.npy', OStopdict) ; np.save('Data\\\\CONStopdict.npy', CONStopdict) ;\n",
    "np.save('Data\\\\JStopdict.npy', JStopdict) "
   ]
  },
  {
   "cell_type": "code",
   "execution_count": null,
   "metadata": {},
   "outputs": [],
   "source": []
  },
  {
   "cell_type": "code",
   "execution_count": null,
   "metadata": {},
   "outputs": [],
   "source": []
  },
  {
   "cell_type": "code",
   "execution_count": null,
   "metadata": {},
   "outputs": [],
   "source": []
  },
  {
   "cell_type": "code",
   "execution_count": null,
   "metadata": {},
   "outputs": [],
   "source": []
  },
  {
   "cell_type": "code",
   "execution_count": null,
   "metadata": {},
   "outputs": [],
   "source": [
    "https://pythonprogramming.net/part-of-speech-tagging-nltk-tutorial/?completed=/stemming-nltk-tutorial/"
   ]
  },
  {
   "cell_type": "code",
   "execution_count": null,
   "metadata": {},
   "outputs": [],
   "source": [
    "https://www.analyticsvidhya.com/blog/2018/02/the-different-methods-deal-text-data-predictive-python/"
   ]
  },
  {
   "cell_type": "code",
   "execution_count": null,
   "metadata": {},
   "outputs": [],
   "source": [
    "The likelihodd should be for word w, if occurrs, in what percentage of the topics where w occurss belong to class k\n",
    " "
   ]
  }
 ],
 "metadata": {
  "kernelspec": {
   "display_name": "Python 3",
   "language": "python",
   "name": "python3"
  },
  "language_info": {
   "codemirror_mode": {
    "name": "ipython",
    "version": 3
   },
   "file_extension": ".py",
   "mimetype": "text/x-python",
   "name": "python",
   "nbconvert_exporter": "python",
   "pygments_lexer": "ipython3",
   "version": "3.6.6"
  }
 },
 "nbformat": 4,
 "nbformat_minor": 2
}
