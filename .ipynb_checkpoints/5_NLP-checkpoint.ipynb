{
 "cells": [
  {
   "cell_type": "code",
   "execution_count": null,
   "metadata": {},
   "outputs": [],
   "source": []
  },
  {
   "cell_type": "code",
   "execution_count": null,
   "metadata": {},
   "outputs": [],
   "source": []
  },
  {
   "cell_type": "code",
   "execution_count": null,
   "metadata": {},
   "outputs": [],
   "source": []
  },
  {
   "cell_type": "code",
   "execution_count": null,
   "metadata": {},
   "outputs": [],
   "source": [
    "def dict_topics():\n",
    "    #Greeting?\n",
    "    greeting_tokens = [\"hello\", \"hi\", \"greetings\", \"good\", \"morning\"]\n",
    "    \n",
    "    #Topic tokens\n",
    "    tokens_estudio_jp = ['actuarial', 'employee', 'employer', 'company', 'retirement', 'labor', 'liabilities']\n",
    "    tokens_consultoria = ['technical', 'note', 'insurance', 'prepaid', 'medicine', 'consulting', 'consult', 'consultancy',\n",
    "                      'company', 'statistical', 'mathematical', 'math', 'analysis']\n",
    "    tokens_rrhh = ['salary', 'level', 'compensation', 'wage', 'climate']\n",
    "    tokens_iess = ['retirement', 'iess', 'disability', 'old', 'age', 'death', 'insurance']\n",
    "    tokens_jobseeker = ['hiring', 'hire']    \n",
    "       \n",
    "    topics = {}\n",
    "    topics['gt'] = greeting_tokens\n",
    "    topics['jp'] = tokens_estudio_jp \n",
    "    topics['c'] = tokens_consultoria          \n",
    "    topics['rrhh'] = tokens_rrhh\n",
    "    topics['iess'] = tokens_iess\n",
    "    topics['js'] = tokens_jobseeker    \n",
    "    \n",
    "    return topics"
   ]
  },
  {
   "cell_type": "code",
   "execution_count": null,
   "metadata": {},
   "outputs": [],
   "source": []
  },
  {
   "cell_type": "code",
   "execution_count": 18,
   "metadata": {},
   "outputs": [],
   "source": [
    "import wikipedia"
   ]
  },
  {
   "cell_type": "code",
   "execution_count": 23,
   "metadata": {},
   "outputs": [
    {
     "data": {
      "text/plain": [
       "'Ecuador, oficialmente denominado República del Ecuador, es un país americano ubicado en la sección sur de este continente. Limita al norte con Colombia, al sur y al este con Perú y al oeste con el océano Pacífico, el cual lo separa de las Islas Galápagos, ubicadas a 1000 kilómetros, desde la península de Santa Elena a la isla San Cristóbal. Una sección volcánica de la cordillera de los Andes divide el territorio de norte a sur, dejando a su flanco occidental el golfo de Guayaquil y una llanura boscosa…'"
      ]
     },
     "execution_count": 23,
     "metadata": {},
     "output_type": "execute_result"
    }
   ],
   "source": [
    "query = 'capital de la República del Ecuador'\n",
    "p = wikipedia.summary(query, sentences=0, chars=500, auto_suggest=True, redirect=True)\n",
    "str(p)"
   ]
  },
  {
   "cell_type": "code",
   "execution_count": null,
   "metadata": {},
   "outputs": [],
   "source": []
  },
  {
   "cell_type": "code",
   "execution_count": 2,
   "metadata": {},
   "outputs": [],
   "source": [
    "wikipedia.set_lang('es')"
   ]
  },
  {
   "cell_type": "code",
   "execution_count": 8,
   "metadata": {},
   "outputs": [
    {
     "data": {
      "text/plain": [
       "'Ecuador, oficialmente denominado República del Ecuador, es un país americano ubicado en la sección sur de este continente. Limita al norte con Colombia, al sur y al este con Perú y al oeste con el océano Pacífico, el cual lo separa de las Islas Galápagos, ubicadas a 1000 kilómetros, desde la península de Santa Elena a la isla San Cristóbal. Una sección volcánica de la cordillera de los Andes divide el territorio de norte a sur, dejando a su flanco occidental el golfo de Guayaquil y una llanura boscosa…'"
      ]
     },
     "execution_count": 8,
     "metadata": {},
     "output_type": "execute_result"
    }
   ],
   "source": [
    "query = 'Cual es la capital de  Ecuador?'\n",
    "p = wikipedia.summary(query, sentences=0, chars=500, auto_suggest=True, redirect=True)\n",
    "str(p)"
   ]
  },
  {
   "cell_type": "code",
   "execution_count": 6,
   "metadata": {},
   "outputs": [
    {
     "data": {
      "text/plain": [
       "'El Retrato de Lisa Gherardini, esposa de Francesco del Giocondo,[1]\\u200bmás conocido como La Gioconda (La Joconde en francés) o La Mona Lisa, es una obra pictórica del polímata renacentista italiano Leonardo da Vinci. Fue adquirida por el rey Francisco I de Francia a comienzos del siglo XVI y desde entonces es propiedad del Estado Francés. Se halla expuesta en el Museo del Louvre de París, siendo, sin duda, la «joya» de sus colecciones.\\nSu nombre, La Gioconda (la alegre, en castellano), deriva de la…'"
      ]
     },
     "execution_count": 6,
     "metadata": {},
     "output_type": "execute_result"
    }
   ],
   "source": [
    "query = 'quien pinto la Mona Lisa?'\n",
    "p = wikipedia.summary(query, sentences=0, chars=500, auto_suggest=True, redirect=True)\n",
    "str(p)"
   ]
  },
  {
   "cell_type": "code",
   "execution_count": null,
   "metadata": {},
   "outputs": [],
   "source": []
  },
  {
   "cell_type": "code",
   "execution_count": 1,
   "metadata": {},
   "outputs": [],
   "source": [
    "import re"
   ]
  },
  {
   "cell_type": "code",
   "execution_count": 2,
   "metadata": {},
   "outputs": [],
   "source": [
    "string = 'Hola muchas gracias, tengo 18 años y mi ruc es 1712914389 o un guayaquileño 0999121121'"
   ]
  },
  {
   "cell_type": "code",
   "execution_count": 4,
   "metadata": {},
   "outputs": [
    {
     "data": {
      "text/plain": [
       "['18', '1712914389', '0999121121']"
      ]
     },
     "execution_count": 4,
     "metadata": {},
     "output_type": "execute_result"
    }
   ],
   "source": [
    "nlist = [s for s in re.findall(r'\\b\\d+\\b', string)]\n",
    "nlist"
   ]
  },
  {
   "cell_type": "code",
   "execution_count": 6,
   "metadata": {},
   "outputs": [
    {
     "data": {
      "text/plain": [
       "10"
      ]
     },
     "execution_count": 6,
     "metadata": {},
     "output_type": "execute_result"
    }
   ],
   "source": [
    "len(nlist[1])"
   ]
  },
  {
   "cell_type": "code",
   "execution_count": null,
   "metadata": {},
   "outputs": [],
   "source": []
  },
  {
   "cell_type": "code",
   "execution_count": 9,
   "metadata": {},
   "outputs": [],
   "source": [
    "import ddg3"
   ]
  },
  {
   "cell_type": "code",
   "execution_count": 10,
   "metadata": {},
   "outputs": [
    {
     "ename": "TypeError",
     "evalue": "query() got an unexpected keyword argument 'kad'",
     "output_type": "error",
     "traceback": [
      "\u001b[1;31m---------------------------------------------------------------------------\u001b[0m",
      "\u001b[1;31mTypeError\u001b[0m                                 Traceback (most recent call last)",
      "\u001b[1;32m<ipython-input-10-908885e86666>\u001b[0m in \u001b[0;36m<module>\u001b[1;34m\u001b[0m\n\u001b[1;32m----> 1\u001b[1;33m \u001b[0mprint\u001b[0m\u001b[1;33m(\u001b[0m\u001b[0mddg3\u001b[0m\u001b[1;33m.\u001b[0m\u001b[0mquery\u001b[0m\u001b[1;33m(\u001b[0m\u001b[1;34m'19301'\u001b[0m\u001b[1;33m,\u001b[0m \u001b[0mkad\u001b[0m\u001b[1;33m=\u001b[0m\u001b[1;34m'es_ES'\u001b[0m\u001b[1;33m)\u001b[0m\u001b[1;33m.\u001b[0m\u001b[0manswer\u001b[0m\u001b[1;33m.\u001b[0m\u001b[0mtext\u001b[0m\u001b[1;33m)\u001b[0m\u001b[1;33m\u001b[0m\u001b[0m\n\u001b[0m",
      "\u001b[1;31mTypeError\u001b[0m: query() got an unexpected keyword argument 'kad'"
     ]
    }
   ],
   "source": [
    "print(ddg3.query('19301', kad='es_ES').answer.text)"
   ]
  },
  {
   "cell_type": "code",
   "execution_count": 16,
   "metadata": {},
   "outputs": [
    {
     "data": {
      "text/plain": [
       "'Python of Aenus A Roman philosopher and a former student of Socrates.'"
      ]
     },
     "execution_count": 16,
     "metadata": {},
     "output_type": "execute_result"
    }
   ],
   "source": [
    "r = ddg3.query('Python')\n",
    "r.related[6].text"
   ]
  },
  {
   "cell_type": "code",
   "execution_count": 17,
   "metadata": {},
   "outputs": [
    {
     "data": {
      "text/plain": [
       "[<ddg3.Result at 0x2055212f550>,\n",
       " <ddg3.Result at 0x20552124978>,\n",
       " <ddg3.Result at 0x205521244e0>,\n",
       " <ddg3.Result at 0x20552124ef0>,\n",
       " <ddg3.Result at 0x20552124c88>,\n",
       " <ddg3.Result at 0x2055212f5f8>]"
      ]
     },
     "execution_count": 17,
     "metadata": {},
     "output_type": "execute_result"
    }
   ],
   "source": [
    "r = ddg3.query('Ecuador?')\n",
    "r.related"
   ]
  },
  {
   "cell_type": "code",
   "execution_count": null,
   "metadata": {},
   "outputs": [],
   "source": []
  }
 ],
 "metadata": {
  "kernelspec": {
   "display_name": "Python 3",
   "language": "python",
   "name": "python3"
  },
  "language_info": {
   "codemirror_mode": {
    "name": "ipython",
    "version": 3
   },
   "file_extension": ".py",
   "mimetype": "text/x-python",
   "name": "python",
   "nbconvert_exporter": "python",
   "pygments_lexer": "ipython3",
   "version": "3.6.6"
  }
 },
 "nbformat": 4,
 "nbformat_minor": 2
}
