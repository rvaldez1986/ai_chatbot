{
 "cells": [
  {
   "cell_type": "code",
   "execution_count": 1,
   "metadata": {},
   "outputs": [],
   "source": [
    "import pandas as pd\n",
    "import numpy as np\n",
    "import unidecode\n",
    "from nltk.tokenize import RegexpTokenizer\n",
    "from nltk.stem import SnowballStemmer\n",
    "from textblob import TextBlob\n",
    "#from googletrans import Translator\n",
    "#from translate import Translator\n",
    "#import indicoio"
   ]
  },
  {
   "cell_type": "code",
   "execution_count": 2,
   "metadata": {},
   "outputs": [
    {
     "data": {
      "text/html": [
       "<div>\n",
       "<style scoped>\n",
       "    .dataframe tbody tr th:only-of-type {\n",
       "        vertical-align: middle;\n",
       "    }\n",
       "\n",
       "    .dataframe tbody tr th {\n",
       "        vertical-align: top;\n",
       "    }\n",
       "\n",
       "    .dataframe thead th {\n",
       "        text-align: right;\n",
       "    }\n",
       "</style>\n",
       "<table border=\"1\" class=\"dataframe\">\n",
       "  <thead>\n",
       "    <tr style=\"text-align: right;\">\n",
       "      <th></th>\n",
       "      <th>Pregunta</th>\n",
       "      <th>respuesta</th>\n",
       "      <th>Tema</th>\n",
       "      <th>Pers/empresa</th>\n",
       "      <th>Polarity</th>\n",
       "    </tr>\n",
       "  </thead>\n",
       "  <tbody>\n",
       "    <tr>\n",
       "      <th>0</th>\n",
       "      <td>Hola una pregunta en que perjudica el acta de ...</td>\n",
       "      <td>NaN</td>\n",
       "      <td>Renuncia/Despido/Desahucio</td>\n",
       "      <td>persona</td>\n",
       "      <td>0</td>\n",
       "    </tr>\n",
       "    <tr>\n",
       "      <th>1</th>\n",
       "      <td>PARA CALCULAR EL DESAHUCIO SE DEBE TOMAR EN CU...</td>\n",
       "      <td>NaN</td>\n",
       "      <td>Renuncia/Despido/Desahucio</td>\n",
       "      <td>persona</td>\n",
       "      <td>0</td>\n",
       "    </tr>\n",
       "    <tr>\n",
       "      <th>2</th>\n",
       "      <td>supuestamente Correa emitió el decreto 225 dod...</td>\n",
       "      <td>NaN</td>\n",
       "      <td>Jubilacion Patronal</td>\n",
       "      <td>persona</td>\n",
       "      <td>0</td>\n",
       "    </tr>\n",
       "  </tbody>\n",
       "</table>\n",
       "</div>"
      ],
      "text/plain": [
       "                                            Pregunta respuesta  \\\n",
       "0  Hola una pregunta en que perjudica el acta de ...       NaN   \n",
       "1  PARA CALCULAR EL DESAHUCIO SE DEBE TOMAR EN CU...       NaN   \n",
       "2  supuestamente Correa emitió el decreto 225 dod...       NaN   \n",
       "\n",
       "                         Tema Pers/empresa Polarity  \n",
       "0  Renuncia/Despido/Desahucio      persona        0  \n",
       "1  Renuncia/Despido/Desahucio      persona        0  \n",
       "2         Jubilacion Patronal      persona        0  "
      ]
     },
     "execution_count": 2,
     "metadata": {},
     "output_type": "execute_result"
    }
   ],
   "source": [
    "data = pd.read_csv(\"Data\\\\preguntas.csv\", sep=',', encoding = \"ISO-8859-1\")\n",
    "data.head(3)"
   ]
  },
  {
   "cell_type": "code",
   "execution_count": 3,
   "metadata": {},
   "outputs": [],
   "source": [
    "p2 = []\n",
    "for p in data.Pregunta:\n",
    "    p2.append(' '.join(p.split()))\n",
    "data['Pregunta2'] = p2"
   ]
  },
  {
   "cell_type": "code",
   "execution_count": 6,
   "metadata": {},
   "outputs": [],
   "source": [
    "tokenizer = RegexpTokenizer(r'\\w+')\n",
    "stemmer = SnowballStemmer(\"spanish\")\n",
    "#translator = Translator()\n",
    "#indicoio.config.api_key = '6d3578144af03d329e72390017a320cf'\n",
    "#translate = YandexTranslate('trnsl.1.1.20190627T002314Z.7aaae22624849593.80a9f268fd6e46bda2a31159dab873b5687841d4')"
   ]
  },
  {
   "cell_type": "code",
   "execution_count": 7,
   "metadata": {},
   "outputs": [],
   "source": [
    "jbtopdict = np.load('Data\\\\jbtopdict.npy').item()\n",
    "rentopdict = np.load('Data\\\\rentopdict.npy').item()\n",
    "IESStopdict = np.load('Data\\\\IESStopdict.npy').item()\n",
    "CONTtopdict = np.load('Data\\\\CONTtopdict.npy').item()\n",
    "OStopdict = np.load('Data\\\\OStopdict.npy').item()\n",
    "CONStopdict = np.load('Data\\\\CONStopdict.npy').item()\n",
    "JStopdic = np.load('Data\\\\JStopdict.npy').item()"
   ]
  },
  {
   "cell_type": "code",
   "execution_count": null,
   "metadata": {},
   "outputs": [],
   "source": []
  },
  {
   "cell_type": "code",
   "execution_count": 8,
   "metadata": {},
   "outputs": [],
   "source": [
    "def top_likelihood(t_dict, sentence):\n",
    "    lik = -1\n",
    "    tokens = tokenizer.tokenize(unidecode.unidecode(sentence.lower()))\n",
    "    for w in tokens:\n",
    "        w = stemmer.stem(w)\n",
    "        if w in t_dict:\n",
    "            #print(w)\n",
    "            if lik == -1:\n",
    "                if t_dict[w] == 0:\n",
    "                    lik = -0.9\n",
    "                else:\n",
    "                    lik = t_dict[w]\n",
    "            else:\n",
    "                if t_dict[w] == 0:\n",
    "                    lik -= 0.9\n",
    "                else:\n",
    "                    lik += t_dict[w]\n",
    "    return lik"
   ]
  },
  {
   "cell_type": "code",
   "execution_count": 9,
   "metadata": {},
   "outputs": [
    {
     "data": {
      "text/plain": [
       "'le saluda Miguel Zamora le acabe de enviar con correo a la Ventas3 favor para que lea mi correo y me conteste gracias'"
      ]
     },
     "execution_count": 9,
     "metadata": {},
     "output_type": "execute_result"
    }
   ],
   "source": [
    "data.Pregunta2[62]"
   ]
  },
  {
   "cell_type": "code",
   "execution_count": 10,
   "metadata": {},
   "outputs": [
    {
     "data": {
      "text/plain": [
       "0.5273504273504271"
      ]
     },
     "execution_count": 10,
     "metadata": {},
     "output_type": "execute_result"
    }
   ],
   "source": [
    "top_likelihood(jbtopdict , data.Pregunta2[62])"
   ]
  },
  {
   "cell_type": "code",
   "execution_count": 11,
   "metadata": {},
   "outputs": [
    {
     "data": {
      "text/plain": [
       "'contactari'"
      ]
     },
     "execution_count": 11,
     "metadata": {},
     "output_type": "execute_result"
    }
   ],
   "source": [
    "stemmer.stem('contactaria')"
   ]
  },
  {
   "cell_type": "code",
   "execution_count": null,
   "metadata": {},
   "outputs": [],
   "source": []
  },
  {
   "cell_type": "code",
   "execution_count": 12,
   "metadata": {},
   "outputs": [],
   "source": [
    "#from yandex_translate import YandexTranslate\n",
    "#translate = YandexTranslate('trnsl.1.1.20190627T002314Z.7aaae22624849593.80a9f268fd6e46bda2a31159dab873b5687841d4')\n",
    "#print('Translate:', translate.translate('Hola soy Roberto', 'es-en'))"
   ]
  },
  {
   "cell_type": "code",
   "execution_count": 13,
   "metadata": {},
   "outputs": [],
   "source": [
    "def sentiment(sentence):\n",
    "    return pass"
   ]
  },
  {
   "cell_type": "code",
   "execution_count": 15,
   "metadata": {},
   "outputs": [],
   "source": [
    "#sentiment('Hola me llamo roberto')"
   ]
  },
  {
   "cell_type": "code",
   "execution_count": null,
   "metadata": {},
   "outputs": [],
   "source": []
  },
  {
   "cell_type": "code",
   "execution_count": 16,
   "metadata": {},
   "outputs": [],
   "source": [
    "def percent_greet(sentence):\n",
    "    tgreet = ['hol', 'buen', 'tard', 'dias', 'noch']\n",
    "    count = 0\n",
    "    tokens = tokenizer.tokenize(unidecode.unidecode(sentence.lower()))\n",
    "    for w in tokens:\n",
    "        w = stemmer.stem(w)\n",
    "        if w in tgreet:\n",
    "            count += 1            \n",
    "    return count/len(tokens) "
   ]
  },
  {
   "cell_type": "code",
   "execution_count": 17,
   "metadata": {},
   "outputs": [],
   "source": [
    "def n_token(sentence):\n",
    "    tokens = tokenizer.tokenize(unidecode.unidecode(sentence.lower()))       \n",
    "    return len(tokens) "
   ]
  },
  {
   "cell_type": "code",
   "execution_count": null,
   "metadata": {},
   "outputs": [],
   "source": []
  },
  {
   "cell_type": "code",
   "execution_count": 18,
   "metadata": {},
   "outputs": [],
   "source": [
    "data['jplik'] = [top_likelihood(jbtopdict, x) for x in data.Pregunta2]\n",
    "data['renlik'] = [top_likelihood(rentopdict, x) for x in data.Pregunta2]\n",
    "data['IESSlik'] = [top_likelihood(IESStopdict, x) for x in data.Pregunta2]\n",
    "data['CONTlik'] = [top_likelihood(CONTtopdict, x) for x in data.Pregunta2]\n",
    "data['OSlik'] = [top_likelihood(OStopdict, x) for x in data.Pregunta2]\n",
    "data['CONSlik'] = [top_likelihood(CONStopdict, x) for x in data.Pregunta2]\n",
    "data['JSlik'] = [top_likelihood(JStopdic, x) for x in data.Pregunta2]"
   ]
  },
  {
   "cell_type": "code",
   "execution_count": null,
   "metadata": {},
   "outputs": [],
   "source": []
  },
  {
   "cell_type": "code",
   "execution_count": null,
   "metadata": {},
   "outputs": [],
   "source": []
  },
  {
   "cell_type": "code",
   "execution_count": 19,
   "metadata": {},
   "outputs": [],
   "source": [
    "#data['polarity'] = [sentiment(x) for x in data.Pregunta2]"
   ]
  },
  {
   "cell_type": "code",
   "execution_count": 20,
   "metadata": {},
   "outputs": [],
   "source": [
    "data['p_greet'] = [percent_greet(x) for x in data.Pregunta2]"
   ]
  },
  {
   "cell_type": "code",
   "execution_count": 21,
   "metadata": {},
   "outputs": [],
   "source": [
    "data['n_token'] = [n_token(x) for x in data.Pregunta2]"
   ]
  },
  {
   "cell_type": "code",
   "execution_count": 22,
   "metadata": {},
   "outputs": [
    {
     "data": {
      "text/html": [
       "<div>\n",
       "<style scoped>\n",
       "    .dataframe tbody tr th:only-of-type {\n",
       "        vertical-align: middle;\n",
       "    }\n",
       "\n",
       "    .dataframe tbody tr th {\n",
       "        vertical-align: top;\n",
       "    }\n",
       "\n",
       "    .dataframe thead th {\n",
       "        text-align: right;\n",
       "    }\n",
       "</style>\n",
       "<table border=\"1\" class=\"dataframe\">\n",
       "  <thead>\n",
       "    <tr style=\"text-align: right;\">\n",
       "      <th></th>\n",
       "      <th>Pregunta</th>\n",
       "      <th>respuesta</th>\n",
       "      <th>Tema</th>\n",
       "      <th>Pers/empresa</th>\n",
       "      <th>Polarity</th>\n",
       "      <th>Pregunta2</th>\n",
       "      <th>jplik</th>\n",
       "      <th>renlik</th>\n",
       "      <th>IESSlik</th>\n",
       "      <th>CONTlik</th>\n",
       "      <th>OSlik</th>\n",
       "      <th>CONSlik</th>\n",
       "      <th>JSlik</th>\n",
       "      <th>p_greet</th>\n",
       "      <th>n_token</th>\n",
       "    </tr>\n",
       "  </thead>\n",
       "  <tbody>\n",
       "    <tr>\n",
       "      <th>0</th>\n",
       "      <td>Hola una pregunta en que perjudica el acta de ...</td>\n",
       "      <td>NaN</td>\n",
       "      <td>Renuncia/Despido/Desahucio</td>\n",
       "      <td>persona</td>\n",
       "      <td>0</td>\n",
       "      <td>Hola una pregunta en que perjudica el acta de ...</td>\n",
       "      <td>-1.657143</td>\n",
       "      <td>2.857143</td>\n",
       "      <td>-2.700000</td>\n",
       "      <td>-2.700000</td>\n",
       "      <td>-2.7</td>\n",
       "      <td>-2.7</td>\n",
       "      <td>-2.700000</td>\n",
       "      <td>0.076923</td>\n",
       "      <td>13</td>\n",
       "    </tr>\n",
       "    <tr>\n",
       "      <th>1</th>\n",
       "      <td>PARA CALCULAR EL DESAHUCIO SE DEBE TOMAR EN CU...</td>\n",
       "      <td>NaN</td>\n",
       "      <td>Renuncia/Despido/Desahucio</td>\n",
       "      <td>persona</td>\n",
       "      <td>0</td>\n",
       "      <td>PARA CALCULAR EL DESAHUCIO SE DEBE TOMAR EN CU...</td>\n",
       "      <td>1.282051</td>\n",
       "      <td>1.439103</td>\n",
       "      <td>-0.621154</td>\n",
       "      <td>-2.700000</td>\n",
       "      <td>-2.7</td>\n",
       "      <td>-2.7</td>\n",
       "      <td>-2.700000</td>\n",
       "      <td>0.000000</td>\n",
       "      <td>17</td>\n",
       "    </tr>\n",
       "    <tr>\n",
       "      <th>2</th>\n",
       "      <td>supuestamente Correa emitió el decreto 225 dod...</td>\n",
       "      <td>NaN</td>\n",
       "      <td>Jubilacion Patronal</td>\n",
       "      <td>persona</td>\n",
       "      <td>0</td>\n",
       "      <td>supuestamente Correa emitió el decreto 225 dod...</td>\n",
       "      <td>4.085470</td>\n",
       "      <td>-2.546154</td>\n",
       "      <td>-2.494872</td>\n",
       "      <td>-3.155556</td>\n",
       "      <td>-4.5</td>\n",
       "      <td>-4.5</td>\n",
       "      <td>-3.488889</td>\n",
       "      <td>0.000000</td>\n",
       "      <td>30</td>\n",
       "    </tr>\n",
       "  </tbody>\n",
       "</table>\n",
       "</div>"
      ],
      "text/plain": [
       "                                            Pregunta respuesta  \\\n",
       "0  Hola una pregunta en que perjudica el acta de ...       NaN   \n",
       "1  PARA CALCULAR EL DESAHUCIO SE DEBE TOMAR EN CU...       NaN   \n",
       "2  supuestamente Correa emitió el decreto 225 dod...       NaN   \n",
       "\n",
       "                         Tema Pers/empresa Polarity  \\\n",
       "0  Renuncia/Despido/Desahucio      persona        0   \n",
       "1  Renuncia/Despido/Desahucio      persona        0   \n",
       "2         Jubilacion Patronal      persona        0   \n",
       "\n",
       "                                           Pregunta2     jplik    renlik  \\\n",
       "0  Hola una pregunta en que perjudica el acta de ... -1.657143  2.857143   \n",
       "1  PARA CALCULAR EL DESAHUCIO SE DEBE TOMAR EN CU...  1.282051  1.439103   \n",
       "2  supuestamente Correa emitió el decreto 225 dod...  4.085470 -2.546154   \n",
       "\n",
       "    IESSlik   CONTlik  OSlik  CONSlik     JSlik   p_greet  n_token  \n",
       "0 -2.700000 -2.700000   -2.7     -2.7 -2.700000  0.076923       13  \n",
       "1 -0.621154 -2.700000   -2.7     -2.7 -2.700000  0.000000       17  \n",
       "2 -2.494872 -3.155556   -4.5     -4.5 -3.488889  0.000000       30  "
      ]
     },
     "execution_count": 22,
     "metadata": {},
     "output_type": "execute_result"
    }
   ],
   "source": [
    "data.head(3)"
   ]
  },
  {
   "cell_type": "code",
   "execution_count": 23,
   "metadata": {},
   "outputs": [],
   "source": [
    "data.to_csv(\"Data\\\\preguntas2.csv\", index=False)"
   ]
  },
  {
   "cell_type": "code",
   "execution_count": null,
   "metadata": {},
   "outputs": [],
   "source": []
  },
  {
   "cell_type": "code",
   "execution_count": null,
   "metadata": {},
   "outputs": [],
   "source": []
  }
 ],
 "metadata": {
  "kernelspec": {
   "display_name": "Python 3",
   "language": "python",
   "name": "python3"
  },
  "language_info": {
   "codemirror_mode": {
    "name": "ipython",
    "version": 3
   },
   "file_extension": ".py",
   "mimetype": "text/x-python",
   "name": "python",
   "nbconvert_exporter": "python",
   "pygments_lexer": "ipython3",
   "version": "3.6.6"
  }
 },
 "nbformat": 4,
 "nbformat_minor": 2
}
