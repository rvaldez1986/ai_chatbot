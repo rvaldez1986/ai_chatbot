{
 "cells": [
  {
   "cell_type": "code",
   "execution_count": 2,
   "metadata": {},
   "outputs": [],
   "source": [
    "import pandas as pd\n",
    "import numpy as np"
   ]
  },
  {
   "cell_type": "code",
   "execution_count": 17,
   "metadata": {},
   "outputs": [],
   "source": [
    "data = pd.read_csv(\"Data\\\\preguntas2.csv\", sep=',', encoding = \"ISO-8859-1\")"
   ]
  },
  {
   "cell_type": "code",
   "execution_count": 18,
   "metadata": {},
   "outputs": [],
   "source": [
    "p2 = []\n",
    "for p in data.Pregunta:\n",
    "    p2.append(' '.join(p.split()))\n",
    "data['Pregunta2'] = p2"
   ]
  },
  {
   "cell_type": "code",
   "execution_count": 19,
   "metadata": {},
   "outputs": [],
   "source": [
    "data['max_topic'] = np.argmax(data.iloc[:,5:12].values, axis=1)\n",
    "data['max_topic_v'] = data.iloc[:,5:12].max(axis=1)\n",
    "data.loc[data.max_topic_v <= 0, 'max_topic'] = -1"
   ]
  },
  {
   "cell_type": "code",
   "execution_count": 28,
   "metadata": {},
   "outputs": [],
   "source": [
    "def y_hat(p_greet, pol, max_topic):\n",
    "    if pol<0 and max_topic == -1:\n",
    "        ret = \"Queja\"\n",
    "    elif pol <= -0.65:\n",
    "        ret = \"Queja\"\n",
    "    elif p_greet>= 0.5:\n",
    "        ret = \"Greeting\"\n",
    "    elif max_topic == -1 and pol >= 0.9:\n",
    "        ret = \"Hi Five\"\n",
    "    elif max_topic == 0:\n",
    "        ret = \"Jubilacion Patronal\"\n",
    "    elif max_topic == 1:\n",
    "        ret = \"Renuncia/Despido/Desahucio\"\n",
    "    elif max_topic == 2:\n",
    "        ret = \"IESS\"\n",
    "    elif max_topic == 3:\n",
    "        ret = \"Contacto\"\n",
    "    elif max_topic == 4:\n",
    "        ret = \"Otros servicios (Charlas/Capacitaciones/Financiera)\"\n",
    "    elif max_topic == 5:\n",
    "        ret = \"Consultoria\"\n",
    "    elif max_topic == 6:\n",
    "        ret = \"job seeker\"\n",
    "    else:\n",
    "        ret = \"na\"   \n",
    "    return ret"
   ]
  },
  {
   "cell_type": "code",
   "execution_count": 29,
   "metadata": {},
   "outputs": [],
   "source": [
    "data['y_hat'] = [y_hat(x,y,z) for x,y,z in zip(data.p_greet,data.polarity,data.max_topic)]"
   ]
  },
  {
   "cell_type": "code",
   "execution_count": 30,
   "metadata": {},
   "outputs": [
    {
     "data": {
      "text/html": [
       "<div>\n",
       "<style scoped>\n",
       "    .dataframe tbody tr th:only-of-type {\n",
       "        vertical-align: middle;\n",
       "    }\n",
       "\n",
       "    .dataframe tbody tr th {\n",
       "        vertical-align: top;\n",
       "    }\n",
       "\n",
       "    .dataframe thead th {\n",
       "        text-align: right;\n",
       "    }\n",
       "</style>\n",
       "<table border=\"1\" class=\"dataframe\">\n",
       "  <thead>\n",
       "    <tr style=\"text-align: right;\">\n",
       "      <th></th>\n",
       "      <th>Pregunta</th>\n",
       "      <th>respuesta</th>\n",
       "      <th>Tema</th>\n",
       "      <th>Pers/empresa</th>\n",
       "      <th>Polarity</th>\n",
       "      <th>jplik</th>\n",
       "      <th>renlik</th>\n",
       "      <th>IESSlik</th>\n",
       "      <th>CONTlik</th>\n",
       "      <th>OSlik</th>\n",
       "      <th>CONSlik</th>\n",
       "      <th>JSlik</th>\n",
       "      <th>polarity</th>\n",
       "      <th>p_greet</th>\n",
       "      <th>n_token</th>\n",
       "      <th>Pregunta2</th>\n",
       "      <th>max_topic</th>\n",
       "      <th>max_topic_v</th>\n",
       "      <th>y_hat</th>\n",
       "      <th>ind</th>\n",
       "    </tr>\n",
       "  </thead>\n",
       "  <tbody>\n",
       "    <tr>\n",
       "      <th>0</th>\n",
       "      <td>Hola una pregunta en que perjudica el acta de ...</td>\n",
       "      <td>NaN</td>\n",
       "      <td>Renuncia/Despido/Desahucio</td>\n",
       "      <td>persona</td>\n",
       "      <td>0</td>\n",
       "      <td>0.142857</td>\n",
       "      <td>2.857143</td>\n",
       "      <td>-1.000000</td>\n",
       "      <td>-1.000000</td>\n",
       "      <td>-1.0</td>\n",
       "      <td>-1.0</td>\n",
       "      <td>-1.000000</td>\n",
       "      <td>0.0</td>\n",
       "      <td>0.076923</td>\n",
       "      <td>13</td>\n",
       "      <td>Hola una pregunta en que perjudica el acta de ...</td>\n",
       "      <td>1</td>\n",
       "      <td>2.857143</td>\n",
       "      <td>Renuncia/Despido/Desahucio</td>\n",
       "      <td>0</td>\n",
       "    </tr>\n",
       "    <tr>\n",
       "      <th>1</th>\n",
       "      <td>PARA CALCULAR EL DESAHUCIO SE DEBE TOMAR EN CU...</td>\n",
       "      <td>NaN</td>\n",
       "      <td>Renuncia/Despido/Desahucio</td>\n",
       "      <td>persona</td>\n",
       "      <td>0</td>\n",
       "      <td>1.282051</td>\n",
       "      <td>1.439103</td>\n",
       "      <td>-0.721154</td>\n",
       "      <td>-1.000000</td>\n",
       "      <td>-1.0</td>\n",
       "      <td>-1.0</td>\n",
       "      <td>-1.000000</td>\n",
       "      <td>0.0</td>\n",
       "      <td>0.000000</td>\n",
       "      <td>17</td>\n",
       "      <td>PARA CALCULAR EL DESAHUCIO SE DEBE TOMAR EN CU...</td>\n",
       "      <td>1</td>\n",
       "      <td>1.439103</td>\n",
       "      <td>Renuncia/Despido/Desahucio</td>\n",
       "      <td>0</td>\n",
       "    </tr>\n",
       "    <tr>\n",
       "      <th>2</th>\n",
       "      <td>supuestamente Correa emitió el decreto 225 dod...</td>\n",
       "      <td>NaN</td>\n",
       "      <td>Jubilacion Patronal</td>\n",
       "      <td>persona</td>\n",
       "      <td>0</td>\n",
       "      <td>4.085470</td>\n",
       "      <td>-1.846154</td>\n",
       "      <td>-1.794872</td>\n",
       "      <td>-3.555556</td>\n",
       "      <td>-1.0</td>\n",
       "      <td>-1.0</td>\n",
       "      <td>-3.888889</td>\n",
       "      <td>0.0</td>\n",
       "      <td>0.000000</td>\n",
       "      <td>30</td>\n",
       "      <td>supuestamente Correa emitió el decreto 225 dod...</td>\n",
       "      <td>0</td>\n",
       "      <td>4.085470</td>\n",
       "      <td>Jubilacion Patronal</td>\n",
       "      <td>0</td>\n",
       "    </tr>\n",
       "  </tbody>\n",
       "</table>\n",
       "</div>"
      ],
      "text/plain": [
       "                                            Pregunta respuesta  \\\n",
       "0  Hola una pregunta en que perjudica el acta de ...       NaN   \n",
       "1  PARA CALCULAR EL DESAHUCIO SE DEBE TOMAR EN CU...       NaN   \n",
       "2  supuestamente Correa emitió el decreto 225 dod...       NaN   \n",
       "\n",
       "                         Tema Pers/empresa Polarity     jplik    renlik  \\\n",
       "0  Renuncia/Despido/Desahucio      persona        0  0.142857  2.857143   \n",
       "1  Renuncia/Despido/Desahucio      persona        0  1.282051  1.439103   \n",
       "2         Jubilacion Patronal      persona        0  4.085470 -1.846154   \n",
       "\n",
       "    IESSlik   CONTlik  OSlik  CONSlik     JSlik  polarity   p_greet  n_token  \\\n",
       "0 -1.000000 -1.000000   -1.0     -1.0 -1.000000       0.0  0.076923       13   \n",
       "1 -0.721154 -1.000000   -1.0     -1.0 -1.000000       0.0  0.000000       17   \n",
       "2 -1.794872 -3.555556   -1.0     -1.0 -3.888889       0.0  0.000000       30   \n",
       "\n",
       "                                           Pregunta2  max_topic  max_topic_v  \\\n",
       "0  Hola una pregunta en que perjudica el acta de ...          1     2.857143   \n",
       "1  PARA CALCULAR EL DESAHUCIO SE DEBE TOMAR EN CU...          1     1.439103   \n",
       "2  supuestamente Correa emitió el decreto 225 dod...          0     4.085470   \n",
       "\n",
       "                        y_hat  ind  \n",
       "0  Renuncia/Despido/Desahucio    0  \n",
       "1  Renuncia/Despido/Desahucio    0  \n",
       "2         Jubilacion Patronal    0  "
      ]
     },
     "execution_count": 30,
     "metadata": {},
     "output_type": "execute_result"
    }
   ],
   "source": [
    "data.head(3)"
   ]
  },
  {
   "cell_type": "code",
   "execution_count": 31,
   "metadata": {},
   "outputs": [],
   "source": [
    "data['ind'] = (data.Tema != data.y_hat)*1"
   ]
  },
  {
   "cell_type": "code",
   "execution_count": 32,
   "metadata": {},
   "outputs": [
    {
     "data": {
      "text/plain": [
       "18"
      ]
     },
     "execution_count": 32,
     "metadata": {},
     "output_type": "execute_result"
    }
   ],
   "source": [
    "sum(data.ind)"
   ]
  }
 ],
 "metadata": {
  "kernelspec": {
   "display_name": "Python 3",
   "language": "python",
   "name": "python3"
  },
  "language_info": {
   "codemirror_mode": {
    "name": "ipython",
    "version": 3
   },
   "file_extension": ".py",
   "mimetype": "text/x-python",
   "name": "python",
   "nbconvert_exporter": "python",
   "pygments_lexer": "ipython3",
   "version": "3.6.6"
  }
 },
 "nbformat": 4,
 "nbformat_minor": 2
}
