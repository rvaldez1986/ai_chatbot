{
 "cells": [
  {
   "cell_type": "code",
   "execution_count": 1,
   "metadata": {},
   "outputs": [],
   "source": [
    "import pandas as pd\n",
    "import numpy as np"
   ]
  },
  {
   "cell_type": "code",
   "execution_count": 2,
   "metadata": {},
   "outputs": [],
   "source": [
    "data = pd.read_csv(\"Data\\\\preguntas2.csv\", sep=',', encoding = \"ISO-8859-1\")"
   ]
  },
  {
   "cell_type": "code",
   "execution_count": 3,
   "metadata": {},
   "outputs": [],
   "source": [
    "p2 = []\n",
    "for p in data.Pregunta:\n",
    "    p2.append(' '.join(p.split()))\n",
    "data['Pregunta2'] = p2"
   ]
  },
  {
   "cell_type": "code",
   "execution_count": 4,
   "metadata": {},
   "outputs": [],
   "source": [
    "data['max_topic'] = np.argmax(data.iloc[:,5:12].values, axis=1)\n",
    "data['max_topic_v'] = data.iloc[:,5:12].max(axis=1)\n",
    "data.loc[data.max_topic_v <= 0, 'max_topic'] = -1"
   ]
  },
  {
   "cell_type": "code",
   "execution_count": 5,
   "metadata": {},
   "outputs": [],
   "source": [
    "def y_hat(p_greet, pol, max_topic):\n",
    "    options = {-1: \"na\", 0: \"Jubilacion Patronal\", 1: \"Renuncia/Despido/Desahucio\", \n",
    "                   2: \"IESS\", 3: \"Contacto\", 4: \"Otros servicios (Charlas/Capacitaciones/Financiera)\", \n",
    "                       5: \"Consultoria\", 6: \"job seeker\"}    \n",
    "    if pol<0 and max_topic == -1:\n",
    "        ret = \"Queja\"\n",
    "    elif pol <= -0.65:\n",
    "        ret = \"Queja\"\n",
    "    elif p_greet>= 0.5:\n",
    "        ret = \"Greeting\"\n",
    "    elif max_topic == -1 and pol >= 0.9:\n",
    "        ret = \"Hi Five\"\n",
    "    else:\n",
    "        ret = options[max_topic]\n",
    "    return ret"
   ]
  },
  {
   "cell_type": "code",
   "execution_count": 6,
   "metadata": {},
   "outputs": [],
   "source": [
    "data['y_hat'] = [y_hat(x,y,z) for x,y,z in zip(data.p_greet,data.polarity,data.max_topic)]"
   ]
  },
  {
   "cell_type": "code",
   "execution_count": null,
   "metadata": {},
   "outputs": [],
   "source": [
    "data.head(3)"
   ]
  },
  {
   "cell_type": "code",
   "execution_count": 7,
   "metadata": {},
   "outputs": [],
   "source": [
    "data['ind'] = (data.Tema != data.y_hat)*1"
   ]
  },
  {
   "cell_type": "code",
   "execution_count": 8,
   "metadata": {},
   "outputs": [
    {
     "data": {
      "text/plain": [
       "18"
      ]
     },
     "execution_count": 8,
     "metadata": {},
     "output_type": "execute_result"
    }
   ],
   "source": [
    "sum(data.ind)"
   ]
  },
  {
   "cell_type": "code",
   "execution_count": null,
   "metadata": {},
   "outputs": [],
   "source": []
  }
 ],
 "metadata": {
  "kernelspec": {
   "display_name": "Python 3",
   "language": "python",
   "name": "python3"
  },
  "language_info": {
   "codemirror_mode": {
    "name": "ipython",
    "version": 3
   },
   "file_extension": ".py",
   "mimetype": "text/x-python",
   "name": "python",
   "nbconvert_exporter": "python",
   "pygments_lexer": "ipython3",
   "version": "3.6.6"
  }
 },
 "nbformat": 4,
 "nbformat_minor": 2
}
